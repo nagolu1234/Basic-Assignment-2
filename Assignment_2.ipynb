{
  "nbformat": 4,
  "nbformat_minor": 0,
  "metadata": {
    "colab": {
      "name": "Assignment 2.ipynb",
      "provenance": [],
      "collapsed_sections": []
    },
    "kernelspec": {
      "name": "python3",
      "display_name": "Python 3"
    },
    "language_info": {
      "name": "python"
    }
  },
  "cells": [
    {
      "cell_type": "markdown",
      "metadata": {
        "id": "lqokocTd6B-w"
      },
      "source": [
        "1. What are the two values of the Boolean data type? How do you write them?"
      ]
    },
    {
      "cell_type": "markdown",
      "metadata": {
        "id": "tkn36Bcf7QBS"
      },
      "source": [
        "We can evaluate any expression in Python, and get one of two answers, **True **or **False**.<br>\n",
        "When you compare two values, the expression is evaluated and Python returns the Boolean answer:"
      ]
    },
    {
      "cell_type": "code",
      "metadata": {
        "colab": {
          "base_uri": "https://localhost:8080/"
        },
        "id": "xfa1Fzvu7qfc",
        "outputId": "f7b9576e-04ea-4553-9ec4-5a260f4e3d9b"
      },
      "source": [
        "print(10 > 9)\n",
        "print(10 == 9)\n",
        "print(10 < 9)"
      ],
      "execution_count": null,
      "outputs": [
        {
          "output_type": "stream",
          "text": [
            "True\n",
            "False\n",
            "False\n"
          ],
          "name": "stdout"
        }
      ]
    },
    {
      "cell_type": "markdown",
      "metadata": {
        "id": "G7c7GLd88LO2"
      },
      "source": [
        "2. What are the three different types of Boolean operators?"
      ]
    },
    {
      "cell_type": "markdown",
      "metadata": {
        "id": "2e3ihnRh9g7O"
      },
      "source": [
        "The logical operators **and**, **or** and **not** are also referred to as boolean operators. **And** as well as **or** operator needs **two operands**, which may evaluate to true or false, **not** operator needs **one operand **evaluating to true or false."
      ]
    },
    {
      "cell_type": "markdown",
      "metadata": {
        "id": "NZHSnq2R9x3B"
      },
      "source": [
        "3. Make a list of each Boolean operator's truth tables (i.e. every possible combination of Boolean values for the operator and what it evaluate).\n"
      ]
    },
    {
      "cell_type": "markdown",
      "metadata": {
        "id": "EUU8XkKLAnOI"
      },
      "source": [
        "**AND Truth Table**"
      ]
    },
    {
      "cell_type": "markdown",
      "metadata": {
        "id": "BIBZ-qBjEpK9"
      },
      "source": [
        "![And_Truth_Table.PNG](data:image/png;base64,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)"
      ]
    },
    {
      "cell_type": "markdown",
      "metadata": {
        "id": "FLpXrWFAIzy4"
      },
      "source": [
        "**OR Truth Table**"
      ]
    },
    {
      "cell_type": "markdown",
      "metadata": {
        "id": "STCf5uYP8wpq"
      },
      "source": [
        "![OR_Truth_Table.PNG](data:image/png;base64,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)"
      ]
    },
    {
      "cell_type": "markdown",
      "metadata": {
        "id": "k6-EcGcKJCj2"
      },
      "source": [
        "**NOT Truth Table**"
      ]
    },
    {
      "cell_type": "markdown",
      "metadata": {
        "id": "bClzcMOiJId3"
      },
      "source": [
        "![Not_Truth_Table.PNG](data:image/png;base64,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)"
      ]
    },
    {
      "cell_type": "markdown",
      "metadata": {
        "id": "LSRytmhTJLe6"
      },
      "source": [
        "4. What are the values of the following expressions?"
      ]
    },
    {
      "cell_type": "code",
      "metadata": {
        "colab": {
          "base_uri": "https://localhost:8080/"
        },
        "id": "TXo0UYseJV9v",
        "outputId": "6178e8e9-ec02-4b20-e792-024c41cf0dc9"
      },
      "source": [
        "print((5 > 4) and (3 == 5)) #  True and Flase is False\n",
        "print(not (5 > 4))          # not of True is False\n",
        "print((5 > 4) or (3 == 5))  # True or False is True\n",
        "print(not ((5 > 4) or (3 == 5))) # not of True is False\n",
        "print((True and True) and (True == False)) # True and False is False\n",
        "print((not False) or (not True)) # True or False is True"
      ],
      "execution_count": null,
      "outputs": [
        {
          "output_type": "stream",
          "text": [
            "False\n",
            "False\n",
            "True\n",
            "False\n",
            "False\n",
            "True\n"
          ],
          "name": "stdout"
        }
      ]
    },
    {
      "cell_type": "markdown",
      "metadata": {
        "id": "-nArTRboK8CX"
      },
      "source": [
        "5. What are the six comparison operators?"
      ]
    },
    {
      "cell_type": "markdown",
      "metadata": {
        "id": "upKo6C48LBS9"
      },
      "source": [
        " **Six Comparison operators **: **Equal to (==), Not equal to (!=), Less than (<), Greater than(>), Less than or equal's to (<=), Greater than equal's to (>=)**"
      ]
    },
    {
      "cell_type": "markdown",
      "metadata": {
        "id": "K5sOGypgMF4x"
      },
      "source": [
        "6. How do you tell the difference between the equal to and assignment operators?Describe a condition and when you would use one."
      ]
    },
    {
      "cell_type": "code",
      "metadata": {
        "colab": {
          "base_uri": "https://localhost:8080/"
        },
        "id": "E1aLsTxwNh0w",
        "outputId": "de294268-2d95-4d95-cce4-450045310f81"
      },
      "source": [
        "x = 2   # Here the equal (=) operator asssign the values to the variable\n",
        "y = 5\n",
        "print(x == y) # Here (==) comparison operator check whether two operans (x & y) is true or not"
      ],
      "execution_count": null,
      "outputs": [
        {
          "output_type": "stream",
          "text": [
            "False\n"
          ],
          "name": "stdout"
        }
      ]
    },
    {
      "cell_type": "markdown",
      "metadata": {
        "id": "fv6hvxozOoUL"
      },
      "source": [
        "7. Identify the three blocks in this code:"
      ]
    },
    {
      "cell_type": "code",
      "metadata": {
        "colab": {
          "base_uri": "https://localhost:8080/"
        },
        "id": "s9QX7maaOxnZ",
        "outputId": "2032ac15-9fb9-4433-a482-c940c0fc3b09"
      },
      "source": [
        "spam = 0\n",
        "if spam == 10: \n",
        " print('eggs')  # Block 1 \n",
        "if spam > 5:\n",
        " print('bacon') # Block 2\n",
        "else:\n",
        " print('ham')   # Block 3\n",
        " print('spam')\n",
        " print('spam')\n",
        "\n",
        " # In all above 3 blocks the print statements must come after indentation\n"
      ],
      "execution_count": null,
      "outputs": [
        {
          "output_type": "stream",
          "text": [
            "ham\n",
            "spam\n",
            "spam\n"
          ],
          "name": "stdout"
        }
      ]
    },
    {
      "cell_type": "markdown",
      "metadata": {
        "id": "jEFGGAS6NEim"
      },
      "source": [
        "8. Write code that prints Hello if 1 is stored in spam, prints Howdy if 2 is stored in spam, and prints Greetings! if anything else is stored in spam."
      ]
    },
    {
      "cell_type": "code",
      "metadata": {
        "colab": {
          "base_uri": "https://localhost:8080/"
        },
        "id": "4CFM8cIDQOk1",
        "outputId": "2cd112eb-107d-47fc-cd41-9a816258fe98"
      },
      "source": [
        "spam = 1\n",
        "if spam == 1:\n",
        " print('Hello')\n",
        "elif spam == 2:\n",
        " print('Howdy')\n",
        "else:\n",
        " print('Greetings')\n",
        "\n"
      ],
      "execution_count": null,
      "outputs": [
        {
          "output_type": "stream",
          "text": [
            "Hello\n"
          ],
          "name": "stdout"
        }
      ]
    },
    {
      "cell_type": "markdown",
      "metadata": {
        "id": "OWdY1RrCQtYS"
      },
      "source": [
        "9.If your programme is stuck in an endless loop, what keys you’ll press?"
      ]
    },
    {
      "cell_type": "markdown",
      "metadata": {
        "id": "CeqSWT8PRn2d"
      },
      "source": [
        "**Ctrl+ C ** command used to stop the endless loop execution "
      ]
    },
    {
      "cell_type": "markdown",
      "metadata": {
        "id": "sC8f0Ec3SEdN"
      },
      "source": [
        "10. How can you tell the difference between break and continue?"
      ]
    },
    {
      "cell_type": "markdown",
      "metadata": {
        "id": "vDXGGtKBrucu"
      },
      "source": [
        "Generally **break** and **continue** are used to manage the interations in loops like **for loop, while loop and Nested loops**.<br>\n",
        "The below code explains the function of break,the iteration ends when satisfy the  condition (i>5) and **compiler won't execute the next statements.**"
      ]
    },
    {
      "cell_type": "code",
      "metadata": {
        "colab": {
          "base_uri": "https://localhost:8080/"
        },
        "id": "Hb0J00T8wqmG",
        "outputId": "45f27378-389d-4bfc-f50c-b40eb12c9723"
      },
      "source": [
        "i = 0\n",
        "for i in range (100):\n",
        "  print(i)\n",
        "  if i>5:\n",
        "    break\n",
        "\n",
        "  else:\n",
        "    print(\"Hello world\")\n",
        "\n"
      ],
      "execution_count": 1,
      "outputs": [
        {
          "output_type": "stream",
          "text": [
            "0\n",
            "Hello world\n",
            "1\n",
            "Hello world\n",
            "2\n",
            "Hello world\n",
            "3\n",
            "Hello world\n",
            "4\n",
            "Hello world\n",
            "5\n",
            "Hello world\n",
            "6\n"
          ],
          "name": "stdout"
        }
      ]
    },
    {
      "cell_type": "markdown",
      "metadata": {
        "id": "mTPXYnJ10EuK"
      },
      "source": [
        "The below code explains the function of continue,the iteration ends when satisfy the condition (i>5) and **compiler won't execute the next statements but it returns to the initial statements and executes till 9.**"
      ]
    },
    {
      "cell_type": "code",
      "metadata": {
        "colab": {
          "base_uri": "https://localhost:8080/"
        },
        "id": "r_lNPYhOz10x",
        "outputId": "4d7ebb63-5506-481c-8bbc-8c46a2faa183"
      },
      "source": [
        "i = 0\n",
        "for i in range (10):\n",
        "  print(i)\n",
        "  if i>5:\n",
        "    continue\n",
        "\n",
        "  else:\n",
        "    print(\"Hello world\")\n"
      ],
      "execution_count": 3,
      "outputs": [
        {
          "output_type": "stream",
          "text": [
            "0\n",
            "Hello world\n",
            "1\n",
            "Hello world\n",
            "2\n",
            "Hello world\n",
            "3\n",
            "Hello world\n",
            "4\n",
            "Hello world\n",
            "5\n",
            "Hello world\n",
            "6\n",
            "7\n",
            "8\n",
            "9\n"
          ],
          "name": "stdout"
        }
      ]
    },
    {
      "cell_type": "markdown",
      "metadata": {
        "id": "TG5503ip0jvz"
      },
      "source": [
        "11. In a for loop, what is the difference between range(10), range(0, 10), and range(0, 10, 1)?"
      ]
    },
    {
      "cell_type": "markdown",
      "metadata": {
        "id": "ZEbZPUIu0sGS"
      },
      "source": [
        " The above ways of range declaration is same :<br>\n",
        " range(10) : The compiler creates ten values ranging from 0 to 9 <br>\n",
        " range(0, 10) : Initial value is 0 and Final value is 10, compiler creates values ranging from from 0 to 9<br>\n",
        "  range(0, 10, 1) : Initial value is 0 and Final value is 10 with 1 jump in positive direction, compiler creates values ranging from 0 t0 9."
      ]
    },
    {
      "cell_type": "markdown",
      "metadata": {
        "id": "QBNgdfIU23rn"
      },
      "source": [
        "12. Write a short program that prints the numbers 1 to 10 using a for loop. Then write an equivalent program that prints the numbers 1 to 10 using a while loop."
      ]
    },
    {
      "cell_type": "code",
      "metadata": {
        "colab": {
          "base_uri": "https://localhost:8080/"
        },
        "id": "w9y1ZKly3g9W",
        "outputId": "e1c8c04a-098c-4312-a9b5-5c9b8081565b"
      },
      "source": [
        "i = 0\n",
        "for i in range(10):\n",
        "  print(i)\n"
      ],
      "execution_count": 4,
      "outputs": [
        {
          "output_type": "stream",
          "text": [
            "0\n",
            "1\n",
            "2\n",
            "3\n",
            "4\n",
            "5\n",
            "6\n",
            "7\n",
            "8\n",
            "9\n"
          ],
          "name": "stdout"
        }
      ]
    },
    {
      "cell_type": "code",
      "metadata": {
        "colab": {
          "base_uri": "https://localhost:8080/"
        },
        "id": "QbIlRUXO3uIk",
        "outputId": "d4556e25-5c9b-480b-c63d-0fb627802f44"
      },
      "source": [
        "i = 0\n",
        "while i <10:\n",
        "  print(i)\n",
        "  i = i+1\n"
      ],
      "execution_count": 5,
      "outputs": [
        {
          "output_type": "stream",
          "text": [
            "0\n",
            "1\n",
            "2\n",
            "3\n",
            "4\n",
            "5\n",
            "6\n",
            "7\n",
            "8\n",
            "9\n"
          ],
          "name": "stdout"
        }
      ]
    },
    {
      "cell_type": "markdown",
      "metadata": {
        "id": "p2F92WQniUeI"
      },
      "source": [
        "13. If you had a function named bacon() inside a module named spam, how would you call it after importing spam?"
      ]
    },
    {
      "cell_type": "markdown",
      "metadata": {
        "id": "bwowK9s9iebh"
      },
      "source": [
        "This function can be called with **spam.bacon()**"
      ]
    }
  ]
}